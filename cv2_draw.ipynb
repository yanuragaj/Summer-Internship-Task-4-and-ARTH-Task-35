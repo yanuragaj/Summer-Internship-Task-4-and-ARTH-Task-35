{
 "cells": [
  {
   "cell_type": "code",
   "execution_count": 2,
   "metadata": {},
   "outputs": [],
   "source": [
    "import  cv2\n",
    "import numpy as np\n",
    "\n",
    "# setting up a black canvas of 900 pixels\n",
    "canvas = np.zeros((720, 1080, 3), dtype=\"uint8\")\n",
    "\n",
    "#main base\n",
    "color = np.random.randint(0, high=256, size=(3,)).tolist()\n",
    "cv2.rectangle(canvas,(400,220),(900,450),color,-1) \n",
    "\n",
    "#triangle base\n",
    "cv2.line(canvas,(220,220),(400,220),color,2)\n",
    "cv2.line(canvas,(400,220),(310,100),color,2)\n",
    "cv2.line(canvas,(310,100),(220,220),color,2)\n",
    "cv2.circle(canvas,(310,160) , 28, color, -1)\n",
    "\n",
    "\n",
    "#door base\n",
    "color = np.random.randint(0, high=256, size=(3,)).tolist()\n",
    "cv2.rectangle(canvas,(220,220),(400,450),color,-1)\n",
    "color = np.random.randint(0, high=256, size=(3,)).tolist()\n",
    "cv2.line(canvas,(310,220),(310,450),color,2)\n",
    "cv2.circle(canvas,(325,335) , 8, color, -1)\n",
    "\n",
    "\n",
    "#roof base\n",
    "color = np.random.randint(0, high=256, size=(3,)).tolist()\n",
    "cv2.line(canvas,(310,100),(830,100),color,2)\n",
    "cv2.line(canvas,(900,220),(830,100),color,2)\n",
    "\n",
    "#window base\n",
    "color = np.random.randint(0, high=256, size=(3,)).tolist()\n",
    "cv2.rectangle(canvas,(550,280),(750,350),color,-1)\n",
    "color = np.random.randint(0, high=256, size=(3,)).tolist()\n",
    "cv2.line(canvas,(650,280),(650,350),color,2)\n",
    "cv2.line(canvas,(550,315),(750,315),color,2)\n",
    "\n",
    "\n",
    "# display our masterpiece to our screen\n",
    "cv2.imshow('image',canvas)  \n",
    "cv2.waitKey(0)  \n",
    "cv2.destroyAllWindows()"
   ]
  },
  {
   "cell_type": "code",
   "execution_count": null,
   "metadata": {},
   "outputs": [],
   "source": []
  },
  {
   "cell_type": "code",
   "execution_count": null,
   "metadata": {},
   "outputs": [],
   "source": []
  }
 ],
 "metadata": {
  "kernelspec": {
   "display_name": "Python 3",
   "language": "python",
   "name": "python3"
  },
  "language_info": {
   "codemirror_mode": {
    "name": "ipython",
    "version": 3
   },
   "file_extension": ".py",
   "mimetype": "text/x-python",
   "name": "python",
   "nbconvert_exporter": "python",
   "pygments_lexer": "ipython3",
   "version": "3.8.3"
  }
 },
 "nbformat": 4,
 "nbformat_minor": 4
}
